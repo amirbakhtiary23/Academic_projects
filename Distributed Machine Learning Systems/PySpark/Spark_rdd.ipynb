{
  "nbformat": 4,
  "nbformat_minor": 0,
  "metadata": {
    "colab": {
      "provenance": []
    },
    "kernelspec": {
      "name": "python3",
      "display_name": "Python 3"
    },
    "language_info": {
      "name": "python"
    }
  },
  "cells": [
    {
      "cell_type": "code",
      "execution_count": null,
      "metadata": {
        "colab": {
          "base_uri": "https://localhost:8080/"
        },
        "id": "bZGSRDX1Kg6R",
        "outputId": "25e57ac1-5cbc-4386-dfe7-ca391076b4f6"
      },
      "outputs": [
        {
          "output_type": "stream",
          "name": "stdout",
          "text": [
            "\r0% [Working]\r            \rHit:1 https://cloud.r-project.org/bin/linux/ubuntu jammy-cran40/ InRelease\n",
            "Hit:2 https://developer.download.nvidia.com/compute/cuda/repos/ubuntu2204/x86_64  InRelease\n",
            "Hit:3 http://security.ubuntu.com/ubuntu jammy-security InRelease\n",
            "Hit:4 http://archive.ubuntu.com/ubuntu jammy InRelease\n",
            "Hit:5 http://archive.ubuntu.com/ubuntu jammy-updates InRelease\n",
            "Hit:6 http://archive.ubuntu.com/ubuntu jammy-backports InRelease\n",
            "Hit:7 https://ppa.launchpadcontent.net/c2d4u.team/c2d4u4.0+/ubuntu jammy InRelease\n",
            "Hit:8 https://ppa.launchpadcontent.net/deadsnakes/ppa/ubuntu jammy InRelease\n",
            "Hit:9 https://ppa.launchpadcontent.net/graphics-drivers/ppa/ubuntu jammy InRelease\n",
            "Hit:10 https://ppa.launchpadcontent.net/ubuntugis/ppa/ubuntu jammy InRelease\n",
            "Reading package lists... Done\n"
          ]
        }
      ],
      "source": [
        "!apt-get update # Update apt-get repository.\n",
        "!apt-get install openjdk-8-jdk-headless -qq > /dev/null # Install Java.\n",
        "!wget -q http://archive.apache.org/dist/spark/spark-3.1.1/spark-3.1.1-bin-hadoop3.2.tgz # Download Apache Sparks.\n",
        "!tar xf spark-3.1.1-bin-hadoop3.2.tgz # Unzip the tgz file.\n",
        "!pip install -q findspark # Install findspark. Adds PySpark to the System path during runtime."
      ]
    },
    {
      "cell_type": "code",
      "source": [
        "import os\n",
        "os.environ[\"JAVA_HOME\"] = \"/usr/lib/jvm/java-8-openjdk-amd64\"\n",
        "os.environ[\"SPARK_HOME\"] = \"/content/spark-3.1.1-bin-hadoop3.2\"\n",
        "\n",
        "!ls\n",
        "\n",
        "# Initialize findspark\n",
        "import findspark\n",
        "findspark.init()\n",
        "import pyspark.sql.functions as spfn\n",
        "# Create a PySpark session\n",
        "from pyspark.sql import SparkSession\n",
        "spark = SparkSession.builder.master(\"local[*]\").getOrCreate()\n",
        "spark"
      ],
      "metadata": {
        "colab": {
          "base_uri": "https://localhost:8080/",
          "height": 254
        },
        "id": "WccZ-wsLKtA2",
        "outputId": "d3b985e4-ff25-4e4d-fb97-06d66b674d35"
      },
      "execution_count": null,
      "outputs": [
        {
          "output_type": "stream",
          "name": "stdout",
          "text": [
            "drive\t     spark-3.1.1-bin-hadoop3.2\t    spark-3.1.1-bin-hadoop3.2.tgz.1\n",
            "sample_data  spark-3.1.1-bin-hadoop3.2.tgz  spark-3.1.1-bin-hadoop3.2.tgz.2\n"
          ]
        },
        {
          "output_type": "execute_result",
          "data": {
            "text/plain": [
              "<pyspark.sql.session.SparkSession at 0x7c84b82b4b20>"
            ],
            "text/html": [
              "\n",
              "            <div>\n",
              "                <p><b>SparkSession - in-memory</b></p>\n",
              "                \n",
              "        <div>\n",
              "            <p><b>SparkContext</b></p>\n",
              "\n",
              "            <p><a href=\"http://a08fab4a7f83:4040\">Spark UI</a></p>\n",
              "\n",
              "            <dl>\n",
              "              <dt>Version</dt>\n",
              "                <dd><code>v3.1.1</code></dd>\n",
              "              <dt>Master</dt>\n",
              "                <dd><code>local[*]</code></dd>\n",
              "              <dt>AppName</dt>\n",
              "                <dd><code>pyspark-shell</code></dd>\n",
              "            </dl>\n",
              "        </div>\n",
              "        \n",
              "            </div>\n",
              "        "
            ]
          },
          "metadata": {},
          "execution_count": 2
        }
      ]
    },
    {
      "cell_type": "code",
      "source": [
        "sc = spark.sparkContext"
      ],
      "metadata": {
        "id": "-ROyEG177QJa"
      },
      "execution_count": null,
      "outputs": []
    },
    {
      "cell_type": "code",
      "source": [
        "from google.colab import drive\n",
        "drive.mount(\"/content/drive/\")"
      ],
      "metadata": {
        "colab": {
          "base_uri": "https://localhost:8080/"
        },
        "id": "hmkjdiP1CTcE",
        "outputId": "0c566641-1154-44c7-ed07-7717da51e409"
      },
      "execution_count": null,
      "outputs": [
        {
          "output_type": "stream",
          "name": "stdout",
          "text": [
            "Drive already mounted at /content/drive/; to attempt to forcibly remount, call drive.mount(\"/content/drive/\", force_remount=True).\n"
          ]
        }
      ]
    },
    {
      "cell_type": "markdown",
      "source": [
        "**Reading text file**\n",
        "\n",
        "This creates a RDD"
      ],
      "metadata": {
        "id": "KaHdLWIDEWoJ"
      }
    },
    {
      "cell_type": "code",
      "source": [
        "textfile=sc.textFile(\"/content/drive/MyDrive/news.txt\")\n",
        "wholetextfile=sc.wholeTextFiles(\"/content/drive/MyDrive/news.txt\")"
      ],
      "metadata": {
        "id": "d07CEv81DxrE"
      },
      "execution_count": null,
      "outputs": []
    },
    {
      "cell_type": "markdown",
      "source": [
        "**Part A**\n",
        "\n",
        "Printing the total number of news and total word count"
      ],
      "metadata": {
        "id": "OlNp73DdFPf2"
      }
    },
    {
      "cell_type": "code",
      "source": [
        "print (\"Total number of news (using the textFile method ):\",len(textfile.collect()))\n",
        "print (\"Output length of the wholeTextFiles method : \",len(wholetextfile.collect()))"
      ],
      "metadata": {
        "colab": {
          "base_uri": "https://localhost:8080/"
        },
        "id": "Lx8uUMSfHjlT",
        "outputId": "7476800c-fe14-46fa-a7a2-c90f126178a5"
      },
      "execution_count": null,
      "outputs": [
        {
          "output_type": "stream",
          "name": "stdout",
          "text": [
            "Total number of news (using the textFile method ): 12\n",
            "Output length of the wholeTextFiles method :  1\n"
          ]
        }
      ]
    },
    {
      "cell_type": "code",
      "source": [
        "#wordcount=textfile.flatMap(lambda line: line.split(\" \")).map(lambda word: (word, 1)).reduceByKey(lambda x, y : x+y)\n",
        "#this section does not require any reduce\n",
        "total_words=textfile.flatMap(lambda line: line.split(\" \")).map(lambda word: word)\n",
        "\n",
        "print (\"total number of words :\",len(total_words.collect()))\n",
        "print (\"first 10 words :\",total_words.take(11))#indexes start at 1"
      ],
      "metadata": {
        "id": "hUaWtxkvE-ws",
        "colab": {
          "base_uri": "https://localhost:8080/"
        },
        "outputId": "401bf64c-8fcd-4b4b-b5ce-57fe7b15dc86"
      },
      "execution_count": null,
      "outputs": [
        {
          "output_type": "stream",
          "name": "stdout",
          "text": [
            "total number of words : 2787\n",
            "first 10 words : ['JAPAN', 'TO', 'REVISE', 'LONG', '-', 'TERM', 'ENERGY', 'DEMAND', 'DOWNWARDS', 'The', 'Ministry']\n"
          ]
        }
      ]
    },
    {
      "cell_type": "markdown",
      "source": [
        "**PART B**"
      ],
      "metadata": {
        "id": "Tt7psBeAHJZT"
      }
    },
    {
      "cell_type": "code",
      "source": [
        "def lower (line):#lowercase map\n",
        "  return line.lower()\n",
        "\n",
        "lower_case_words=textfile.map(lower).flatMap(lambda line: line.split(\" \")).map(lambda word: (word, 1)).reduceByKey(lambda x, y : x+y)\n",
        "ordered=lower_case_words.takeOrdered(10, key = lambda x: -x[1])\n",
        "print (\"first 10 most used words\")\n",
        "for j,i in ordered :\n",
        "  print (j,\":\",i)"
      ],
      "metadata": {
        "colab": {
          "base_uri": "https://localhost:8080/"
        },
        "id": "Pc9B5tB026bS",
        "outputId": "806d45f4-6cf0-403d-9e45-6fc1fbf57c36"
      },
      "execution_count": null,
      "outputs": [
        {
          "output_type": "stream",
          "name": "stdout",
          "text": [
            "first 10 most used words\n",
            ". : 130\n",
            "the : 123\n",
            ", : 102\n",
            "to : 84\n",
            "of : 64\n",
            "said : 55\n",
            "and : 55\n",
            "in : 54\n",
            "a : 45\n",
            "s : 33\n"
          ]
        }
      ]
    },
    {
      "cell_type": "markdown",
      "source": [
        "**Part C**"
      ],
      "metadata": {
        "id": "eSHbz-eXNKof"
      }
    },
    {
      "cell_type": "code",
      "source": [
        "from string import punctuation\n",
        "def check (x):\n",
        "  if x[0] not in punctuation:\n",
        "    return True\n",
        "  else :\n",
        "    return False\n",
        "no_spec=lower_case_words.filter(check)\n",
        "ordered_no_spec=no_spec.takeOrdered(10, key = lambda x: -x[1])\n",
        "print (no_spec.collect())\n",
        "print (\"first 10 most used words excluding special characters\")\n",
        "for j,i in ordered_no_spec :\n",
        "  print (j,\":\",i)"
      ],
      "metadata": {
        "colab": {
          "base_uri": "https://localhost:8080/"
        },
        "id": "2b5Uc5ft3mNS",
        "outputId": "ba59a09c-86bb-4447-9556-9319dd72171e"
      },
      "execution_count": null,
      "outputs": [
        {
          "output_type": "stream",
          "name": "stdout",
          "text": [
            "[('japan', 16), ('long', 4), ('term', 3), ('demand', 6), ('ministry', 5), ('of', 64), ('trade', 16), ('miti', 4), ('meet', 1), ('forecast', 1), ('in', 54), ('officials', 4), ('said', 55), ('is', 13), ('lower', 4), ('primary', 1), ('supplies', 1), ('year', 11), ('600', 1), ('decision', 2), ('follows', 1), ('emergence', 1), ('structural', 1), ('following', 1), ('value', 1), ('yen', 4), ('decline', 2), ('electric', 2), ('power', 2), ('planning', 1), ('work', 3), ('out', 3), ('revised', 1), ('meetings', 1), ('agency', 1), ('resources', 1), ('nuclear', 2), ('s', 33), ('ended', 2), ('supplying', 1), ('an', 8), ('estimated', 1), ('pct', 15), ('kilowatt', 1), ('basis', 1), ('liquefied', 1), ('21', 1), ('),', 2), ('quarter', 9), ('widened', 1), ('4', 2), ('baht', 3), ('1', 4), ('ago', 6), ('business', 3), ('economics', 1), ('department', 2), ('janunary', 1), ('rose', 2), ('improved', 1), ('climate', 1), ('this', 3), ('resulted', 1), ('increase', 4), ('raw', 1), ('country', 2), ('import', 3), ('however', 2), ('due', 5), ('exports', 5), ('60', 1), ('56', 1), ('export', 3), ('growth', 2), ('was', 13), ('than', 4), ('earnings', 4), ('whose', 1), ('declined', 1), ('maize', 1), ('66', 1), ('sugar', 1), ('45', 1), ('26', 1), ('canned', 1), ('pineapples', 1), ('seven', 2), ('high', 2), ('64', 1), ('57', 1), ('foreign', 8), ('ban', 3), ('ends', 1), ('but', 9), ('tug', 1), ('new', 5), ('wales', 1), ('australia', 1), ('lifted', 1), ('ships', 1), ('are', 8), ('week', 3), ('pay', 3), ('claim', 1), ('prevented', 1), ('movement', 1), ('20', 3), ('before', 2), ('hearing', 1), ('arbitration', 1), ('commission', 1), ('disruption', 2), ('cargo', 2), ('sydney', 1), ('kembla', 1), ('action', 2), ('at', 12), ('trades', 2), ('labour', 1), ('protest', 1), ('state', 1), ('compensation', 1), ('unions', 1), ('appear', 1), ('turn', 1), ('short', 1), ('start', 5), ('walk', 1), ('container', 1), ('affected', 2), ('stopped', 1), ('altogether', 1), ('say', 3), ('go', 2), ('effect', 2), ('have', 3), ('indonesian', 2), ('may', 7), ('expand', 2), ('likely', 3), ('two', 5), ('during', 2), ('calendar', 2), ('chairman', 3), ('he', 7), ('told', 3), ('telephone', 1), ('palm', 3), ('sawn', 1), ('tobacco', 1), ('considered', 2), ('cpo', 1), ('refined', 1), ('introduced', 1), ('question', 1), ('minister', 8), ('no', 3), ('when', 2), ('open', 3), ('outcry', 1), ('four', 3), ('days', 1), ('several', 1), ('factors', 1), ('make', 2), ('us', 1), ('move', 3), ('cautiously', 1), ('we', 3), ('safely', 1), ('do', 2), ('mistake', 1), ('undermine', 1), ('added', 4), ('january', 3), ('traded', 2), ('months', 3), ('robusta', 1), ('grades', 1), ('delivery', 1), ('board', 1), ('introduction', 1), ('futures', 1), ('official', 2), ('needed', 1), ('until', 1), ('after', 4), ('indonesia', 2), ('elections', 1), ('april', 5), ('traders', 2), ('monday', 1), ('as', 9), ('world', 6), ('development', 1), ('would', 4), ('help', 3), ('trying', 2), ('overseas', 1), ('interest', 2), ('contacts', 1), ('end', 1), ('already', 2), ('taiwan', 1), ('use', 4), ('visit', 2), ('europe', 1), ('participation', 1), ('good', 1), ('although', 1), ('transactions', 1), ('9', 2), ('595', 1), ('tonnes', 3), ('worth', 1), ('dlrs', 11), ('184', 1), ('rupiah', 2), ('locally', 1), ('latest', 1), ('only', 3), ('lots', 1), ('valued', 1), ('now', 2), ('brokers', 1), ('44', 1), ('lt', 2), ('gt', 1), ('celeron', 3), ('co', 1), ('corp', 1), ('subsidiary', 1), ('meeting', 5), ('rober', 1), ('mercer', 2), ('chief', 1), ('executive', 1), ('officer', 1), ('profit', 2), ('more', 1), ('share', 2), ('continuing', 2), ('operations', 3), ('period', 2), ('reported', 2), ('loss', 2), ('cents', 2), ('companies', 1), ('interested', 1), ('buying', 1), ('form', 1), ('consortium', 1), ('saudi', 5), ('wants', 1), ('bilateral', 1), ('naif', 1), ('aziz', 1), ('reception', 1), ('his', 1), ('levels', 1), ('promote', 1), ('there', 2), ('150', 1), ('000', 7), ('barrels', 3), ('urges', 1), ('further', 2), ('agriculture', 3), ('lyng', 5), ('cut', 1), ('protectionist', 1), ('pressures', 1), ('hideo', 1), ('maki', 4), ('bureau', 1), ('quoted', 2), ('mutsuki', 1), ('restrictions', 1), ('united', 1), ('opened', 3), ('12', 2), ('grain', 2), ('customer', 1), ('output', 3), ('53', 1), ('requirements', 1), ('put', 1), ('priority', 1), ('named', 1), ('against', 2), ('agreement', 3), ('tariffs', 1), ('gatt', 2), ('last', 3), ('beef', 1), ('maintain', 1), ('current', 1), ('self', 1), ('try', 1), ('produce', 1), ('potential', 2), ('production', 2), ('higher', 2), ('rising', 1), ('countries', 2), ('reduce', 1), ('programs', 1), ('item', 1), ('round', 1), ('representative', 1), ('yeutter', 1), ('join', 1), ('bank', 13), ('intervened', 1), ('just', 1), ('support', 2), ('falling', 1), ('below', 1), ('140', 5), ('central', 1), ('bought', 1), ('moderate', 1), ('amount', 1), ('prevent', 1), ('amid', 1), ('record', 1), ('low', 2), ('70', 1), ('york', 1), ('141', 1), ('close', 1), ('set', 2), ('years', 4), ('pipeline', 4), ('guillermo', 1), ('perry', 3), ('inaugurated', 1), ('8', 1), ('allow', 1), ('halted', 1), ('damage', 1), ('once', 1), ('exceed', 1), ('quota', 1), ('lost', 2), ('income', 1), ('venezuela', 1), ('javier', 1), ('ministers', 1), ('news', 1), ('signing', 1), ('exploitation', 1), ('jungle', 2), ('zone', 1), ('nations', 1), ('ecuadorean', 2), ('emergency', 1), ('possibility', 1), ('50', 2), ('bpd', 4), ('planned', 1), ('pump', 1), ('km', 3), ('capacity', 1), ('run', 1), ('oilfields', 1), ('stretch', 1), ('10', 1), ('gave', 1), ('figures', 1), ('insignificant', 1), ('compared', 1), ('earn', 1), ('pumping', 1), ('around', 2), ('185', 1), ('month', 3), ('italy', 4), ('mario', 1), ('commenting', 1), ('speculation', 1), ('balance', 2), ('moves', 1), ('liberalizing', 1), ('purchase', 2), ('securities', 4), ('overall', 1), ('linked', 1), ('decree', 1), ('abolishing', 1), ('obligatory', 1), ('purchases', 2), ('delayed', 1), ('lags', 1), ('rather', 1), ('portfolio', 1), ('statement', 1), ('newspaper', 3), ('remarks', 1), ('partly', 1), ('caused', 1), ('banking', 1), ('outflows', 1), ('investments', 1), ('possible', 1), ('far', 1), ('canada', 2), ('losses', 3), ('estimates', 1), ('continued', 2), ('servicing', 1), ('...', 1), ('uncertain', 1), ('provision', 1), ('223', 1), ('0', 1), ('reporting', 1), ('allan', 1), ('quality', 1), ('particularly', 1), ('sector', 2), ('substantial', 1), ('resource', 1), ('related', 1), ('difficulties', 1), ('private', 1), ('public', 1), ('unsatisfactory', 1), ('results', 1), ('activities', 1), ('negotiations', 1), ('brazil', 2), ('leading', 2), ('pact', 2), ('newly', 1), ('rules', 1), ('fall', 1), ('topic', 1), ('alliance', 1), ('line', 1), ('exporters', 2), ('take', 2), ('defend', 1), ('june', 1), ('yaounde', 1), ('common', 1), ('position', 1), ('briefed', 1), ('arrangements', 1), ('research', 1), ('domingo', 1), ('dominican', 1), ('d', 1), ('kamga', 1), ('include', 1), ('three', 1), ('ivory', 1), ('coast', 1), ('accounts', 1), ('to', 84), ('revise', 2), ('energy', 13), ('downwards', 1), ('the', 123), ('international', 6), ('and', 55), ('industry', 3), ('will', 17), ('its', 13), ('supply', 3), ('outlook', 3), ('by', 11), ('august', 1), ('a', 45), ('downtrend', 1), ('japanese', 4), ('expected', 2), ('projection', 1), ('for', 22), ('2000', 1), ('550', 1), ('mln', 12), ('kilolitres', 1), ('kl', 1), ('from', 14), ('they', 11), ('changes', 2), ('rise', 1), ('domestic', 3), ('through', 3), ('deliberations', 1), ('committee', 1), ('natural', 4), ('also', 6), ('review', 1), ('breakdown', 1), ('sources', 5), ('including', 2), ('oil', 15), ('coal', 1), ('gas', 3), ('provided', 1), ('bulk', 1), ('fiscal', 1), ('march', 3), ('31', 3), ('27', 2), ('on', 28), ('hour', 1), ('followed', 1), ('23', 3), ('noted', 1), ('thai', 1), ('deficit', 8), ('widens', 1), ('first', 10), ('thailand', 2), ('5', 3), ('billion', 13), ('1987', 4), ('2', 5), ('it', 14), ('imports', 2), ('65', 1), ('58', 1), ('7', 1), ('materials', 1), ('semi', 1), ('finished', 1), ('products', 5), ('bill', 1), ('fell', 2), ('prices', 4), ('expanded', 1), ('6', 4), ('smaller', 1), ('many', 1), ('key', 1), ('commodities', 1), ('rice', 3), ('18', 1), ('tin', 1), ('registering', 1), ('were', 2), ('jewellery', 1), ('up', 6), ('clothing', 1), ('rubber', 10), ('35', 2), ('australian', 1), ('ship', 1), ('nsw', 5), ('ports', 5), ('hit', 1), ('crews', 1), ('south', 2), ('victoria', 1), ('western', 1), ('yesterday', 2), ('their', 2), ('flag', 1), ('carrying', 1), ('containers', 1), ('still', 3), ('being', 3), ('disrupted', 2), ('separate', 1), ('dispute', 2), ('shipping', 3), ('imposed', 1), ('over', 2), ('had', 5), ('or', 5), ('port', 4), ('nearly', 1), ('vessels', 1), ('went', 1), ('today', 4), ('meanwhile', 1), ('began', 1), ('handling', 2), ('newcastle', 1), ('industrial', 1), ('part', 1), ('called', 1), ('council', 1), ('workers', 1), ('laws', 1), ('various', 1), ('be', 10), ('taking', 1), ('time', 1), ('each', 2), ('shift', 1), ('then', 1), ('off', 2), ('has', 7), ('been', 7), ('with', 14), ('movements', 2), ('most', 1), ('not', 9), ('could', 4), ('how', 2), ('what', 2), ('commodity', 3), ('exchange', 13), ('trading', 8), ('least', 1), ('one', 4), ('possibly', 1), ('paian', 1), ('nainggolan', 3), ('reuters', 1), ('interview', 1), ('that', 11), ('timber', 1), ('pepper', 1), ('either', 1), ('crude', 6), ('rachmat', 1), ('saleh', 2), ('ahead', 1), ('made', 2), ('fledgling', 1), ('currently', 1), ('coffee', 5), ('physicals', 1), ('system', 1), (',\"', 5), ('want', 1), ('slowly', 1), ('so', 1), ('confidence', 1), ('.\"', 3), ('physical', 1), ('launched', 1), ('1985', 3), ('1986', 3), ('contracts', 2), ('fob', 2), ('five', 7), ('forward', 2), ('prompt', 1), ('considering', 1), ('later', 2), ('feasibility', 1), ('study', 1), ('decisions', 1), ('second', 2), ('largest', 3), ('producer', 2), ('should', 1), ('marketing', 1), ('effort', 1), ('hoped', 1), ('boost', 1), ('building', 1), ('users', 1), ('teams', 1), ('korea', 1), ('encourage', 2), ('direct', 1), ('while', 1), ('delegation', 1), ('mexico', 1), ('some', 1), ('latin', 1), ('american', 2), ('states', 2), ('infant', 1), ('disappointing', 1), ('between', 3), ('december', 1), ('totalled', 2), ('plus', 1), ('3', 2), ('delivered', 1), ('report', 2), ('amounted', 1), ('905', 1), ('381', 1), ('87', 1), ('total', 2), ('membership', 1), ('nine', 1), ('corrected', 1), ('goodyear', 5), ('sell', 2), ('tire', 1), ('expects', 2), ('about', 3), ('company', 1), ('annual', 1), ('dlr', 2), ('same', 1), ('59', 1), ('buy', 1), ('unit', 1), ('arabia', 3), ('sales', 1), ('hopes', 2), ('volume', 1), ('expanding', 1), ('arabian', 1), ('interior', 1), ('bin', 1), ('abdul', 1), ('tokyo', 5), ('raise', 1), ('earlier', 3), ('did', 1), ('elaborate', 1), ('inviting', 1), ('industries', 1), ('firms', 1), ('per', 4), ('day', 4), ('u', 9), ('farm', 6), ('market', 8), ('secretary', 2), ('richard', 1), ('asked', 1), ('washington', 1), ('ease', 1), ('reporters', 1), ('director', 1), ('general', 4), ('economic', 1), ('affairs', 1), ('telling', 1), ('kato', 5), ('removal', 1), ('well', 3), ('who', 1), ('here', 3), ('dicuss', 1), ('replying', 1), ('importer', 1), ('depended', 1), ('food', 1), ('talks', 4), ('complaints', 1), ('citrus', 1), ('level', 1), ('sufficiency', 1), ('surplus', 2), ('because', 2), ('suffers', 1), ('surpluses', 1), ('exporting', 1), ('product', 1), ('expensive', 1), ('hold', 1), ('detailed', 1), ('discussions', 1), ('which', 4), ('clayton', 1), ('intervenes', 1), ('dollar', 2), ('00', 2), ('dealers', 1), ('dollars', 1), ('bearish', 1), ('sentiment', 1), ('currency', 1), ('80', 2), ('15', 2), ('previous', 1), ('55', 1), ('ecuador', 8), ('colombia', 3), ('link', 6), ('next', 4), ('colombian', 2), ('mines', 2), ('built', 2), ('resume', 1), ('earthquake', 1), ('lago', 2), ('agrio', 2), ('balao', 1), ('repaired', 1), ('opec', 2), ('order', 1), ('offset', 1), ('debts', 1), ('contracted', 1), ('nigeria', 1), ('since', 1), ('quake', 2), ('espinosa', 4), ('speaking', 1), ('conference', 3), ('joint', 1), ('exploration', 1), ('border', 1), ('drilling', 1), ('begin', 1), ('september', 1), ('transport', 1), ('extension', 1), ('pumped', 1), ('along', 1), ('cost', 2), ('75', 1), ('barrel', 1), ('43', 1), ('maximum', 1), ('centre', 1), ('existing', 1), ('runs', 1), ('pacific', 1), ('tumaco', 1), ('32', 1), ('side', 1), ('11', 2), ('segment', 1), ('going', 1), ('member', 2), ('250', 1), ('costing', 1), ('90', 1), ('liberalization', 1), ('sarcinelli', 3), ('italian', 1), ('press', 1), ('sharp', 2), ('payments', 3), ('attributed', 2), ('recent', 1), ('reacting', 1), ('suggestions', 1), ('211', 1), ('lire', 1), ('compares', 1), ('040', 1), ('13', 1), ('non', 3), ('bearing', 1), ('deposits', 2), ('can', 2), ('better', 1), ('premature', 2), ('receipts', 1), ('leads', 1), ('capital', 4), ('outflow', 1), ('investment', 1), ('la', 1), ('repubblica', 1), ('cited', 1), ('announced', 1), ('practice', 1), ('seems', 1), ('constant', 1), ('flow', 1), ('outside', 1), ('our', 1), ('borders', 1), ('abolish', 1), ('royal', 4), ('sees', 1), ('loan', 4), ('25', 1), ('provisions', 3), ('given', 1), ('debt', 2), ('problems', 2), ('north', 1), ('add', 1), ('loans', 3), ('troubled', 1), ('borrower', 1), ('187', 1), ('accrual', 1), ('net', 1), ('taylor', 3), ('credit', 1), ('--', 3), ('associated', 1), ('continue', 1), ('adverse', 1), ('profitability', 1), ('remains', 1), ('weak', 1), ('reflecting', 1), ('borrowers', 1), ('speculate', 1), ('outcome', 1), ('resturcturing', 1), ('impact', 1), ('114', 1), ('cocoa', 7), ('producers', 3), ('discuss', 3), ('whether', 1), ('agreed', 1), ('buffer', 2), ('stock', 2), ('succeed', 1), ('reversing', 1), ('another', 1), ('discussed', 1), ('twice', 1), ('yearly', 1), ('cpa', 3), ('witholding', 1), ('scheme', 2), ('under', 1), ('120', 1), ('if', 1), ('fail', 1), ('organisation', 1), ('issue', 1), ('delegates', 1), ('place', 1), ('santo', 1), ('republic', 1), ('top', 1), ('ghana', 1)]\n",
            "first 10 most used words excluding special characters\n",
            "the : 123\n",
            "to : 84\n",
            "of : 64\n",
            "said : 55\n",
            "and : 55\n",
            "in : 54\n",
            "a : 45\n",
            "s : 33\n",
            "on : 28\n",
            "for : 22\n"
          ]
        }
      ]
    },
    {
      "cell_type": "markdown",
      "source": [
        "**Part D**"
      ],
      "metadata": {
        "id": "r87yN9GyQzZl"
      }
    },
    {
      "cell_type": "code",
      "source": [
        "z=no_spec.collect()\n",
        "type(z)"
      ],
      "metadata": {
        "colab": {
          "base_uri": "https://localhost:8080/"
        },
        "id": "8mLe3mNHWf59",
        "outputId": "56887411-ba3b-4aa3-e7a3-8f85a581f664"
      },
      "execution_count": null,
      "outputs": [
        {
          "output_type": "execute_result",
          "data": {
            "text/plain": [
              "list"
            ]
          },
          "metadata": {},
          "execution_count": 10
        }
      ]
    },
    {
      "cell_type": "code",
      "source": [
        "alphabet=sc.parallelize(\"abcdefghijklmnopqrstuvwxyz\")\n",
        "lower_case_words=textfile.map(lower).flatMap(lambda line: line.split(\" \")).filter(check).collect()\n",
        "print(lower_case_words)\n",
        "def count_char(x):\n",
        "  counter=0\n",
        "  for j in lower_case_words:\n",
        "    if j[0]==x:\n",
        "      counter+=1\n",
        "  return counter\n",
        "char_counts=alphabet.map(lambda x : (x,count_char(x)))\n",
        "\n",
        "print (\"charachter counts : \",char_counts.collect())"
      ],
      "metadata": {
        "colab": {
          "base_uri": "https://localhost:8080/"
        },
        "id": "iskF9FupOf2l",
        "outputId": "4fb69df8-e64a-43e3-87a2-9a55520043cf"
      },
      "execution_count": null,
      "outputs": [
        {
          "output_type": "stream",
          "name": "stdout",
          "text": [
            "['japan', 'to', 'revise', 'long', 'term', 'energy', 'demand', 'downwards', 'the', 'ministry', 'of', 'international', 'trade', 'and', 'industry', 'miti', 'will', 'revise', 'its', 'long', 'term', 'energy', 'supply', 'demand', 'outlook', 'by', 'august', 'to', 'meet', 'a', 'forecast', 'downtrend', 'in', 'japanese', 'energy', 'demand', 'ministry', 'officials', 'said', 'miti', 'is', 'expected', 'to', 'lower', 'the', 'projection', 'for', 'primary', 'energy', 'supplies', 'in', 'the', 'year', '2000', 'to', '550', 'mln', 'kilolitres', 'kl', 'from', '600', 'mln', 'they', 'said', 'the', 'decision', 'follows', 'the', 'emergence', 'of', 'structural', 'changes', 'in', 'japanese', 'industry', 'following', 'the', 'rise', 'in', 'the', 'value', 'of', 'the', 'yen', 'and', 'a', 'decline', 'in', 'domestic', 'electric', 'power', 'demand', 'miti', 'is', 'planning', 'to', 'work', 'out', 'a', 'revised', 'energy', 'supply', 'demand', 'outlook', 'through', 'deliberations', 'of', 'committee', 'meetings', 'of', 'the', 'agency', 'of', 'natural', 'resources', 'and', 'energy', 'the', 'officials', 'said', 'they', 'said', 'miti', 'will', 'also', 'review', 'the', 'breakdown', 'of', 'energy', 'supply', 'sources', 'including', 'oil', 'nuclear', 'coal', 'and', 'natural', 'gas', 'nuclear', 'energy', 'provided', 'the', 'bulk', 'of', 'japan', 's', 'electric', 'power', 'in', 'the', 'fiscal', 'year', 'ended', 'march', '31', 'supplying', 'an', 'estimated', '27', 'pct', 'on', 'a', 'kilowatt', 'hour', 'basis', 'followed', 'by', 'oil', '23', 'pct', 'and', 'liquefied', 'natural', 'gas', '21', 'pct', 'they', 'noted', 'thai', 'trade', 'deficit', 'widens', 'in', 'first', 'quarter', 'thailand', 's', 'trade', 'deficit', 'widened', 'to', '4', '5', 'billion', 'baht', 'in', 'the', 'first', 'quarter', 'of', '1987', 'from', '2', '1', 'billion', 'a', 'year', 'ago', 'the', 'business', 'economics', 'department', 'said', 'it', 'said', 'janunary', 'march', 'imports', 'rose', 'to', '65', '1', 'billion', 'baht', 'from', '58', '7', 'billion', 'thailand', 's', 'improved', 'business', 'climate', 'this', 'year', 'resulted', 'in', 'a', '27', 'pct', 'increase', 'in', 'imports', 'of', 'raw', 'materials', 'and', 'semi', 'finished', 'products', 'the', 'country', 's', 'oil', 'import', 'bill', 'however', 'fell', '23', 'pct', 'in', 'the', 'first', 'quarter', 'due', 'to', 'lower', 'oil', 'prices', 'the', 'department', 'said', 'first', 'quarter', 'exports', 'expanded', 'to', '60', '6', 'billion', 'baht', 'from', '56', '6', 'billion', 'export', 'growth', 'was', 'smaller', 'than', 'expected', 'due', 'to', 'lower', 'earnings', 'from', 'many', 'key', 'commodities', 'including', 'rice', 'whose', 'earnings', 'declined', '18', 'pct', 'maize', '66', 'pct', 'sugar', '45', 'pct', 'tin', '26', 'pct', 'and', 'canned', 'pineapples', 'seven', 'pct', 'products', 'registering', 'high', 'export', 'growth', 'were', 'jewellery', 'up', '64', 'pct', 'clothing', '57', 'pct', 'and', 'rubber', '35', 'pct', 'australian', 'foreign', 'ship', 'ban', 'ends', 'but', 'nsw', 'ports', 'hit', 'tug', 'crews', 'in', 'new', 'south', 'wales', 'nsw', 'victoria', 'and', 'western', 'australia', 'yesterday', 'lifted', 'their', 'ban', 'on', 'foreign', 'flag', 'ships', 'carrying', 'containers', 'but', 'nsw', 'ports', 'are', 'still', 'being', 'disrupted', 'by', 'a', 'separate', 'dispute', 'shipping', 'sources', 'said', 'the', 'ban', 'imposed', 'a', 'week', 'ago', 'over', 'a', 'pay', 'claim', 'had', 'prevented', 'the', 'movement', 'in', 'or', 'out', 'of', 'port', 'of', 'nearly', '20', 'vessels', 'they', 'said', 'the', 'pay', 'dispute', 'went', 'before', 'a', 'hearing', 'of', 'the', 'arbitration', 'commission', 'today', 'meanwhile', 'disruption', 'began', 'today', 'to', 'cargo', 'handling', 'in', 'the', 'ports', 'of', 'sydney', 'newcastle', 'and', 'port', 'kembla', 'they', 'said', 'the', 'industrial', 'action', 'at', 'the', 'nsw', 'ports', 'is', 'part', 'of', 'the', 'week', 'of', 'action', 'called', 'by', 'the', 'nsw', 'trades', 'and', 'labour', 'council', 'to', 'protest', 'changes', 'to', 'the', 'state', 's', 'workers', 'compensation', 'laws', 'the', 'shipping', 'sources', 'said', 'the', 'various', 'port', 'unions', 'appear', 'to', 'be', 'taking', 'it', 'in', 'turn', 'to', 'work', 'for', 'a', 'short', 'time', 'at', 'the', 'start', 'of', 'each', 'shift', 'and', 'then', 'to', 'walk', 'off', 'cargo', 'handling', 'in', 'the', 'ports', 'has', 'been', 'disrupted', 'with', 'container', 'movements', 'most', 'affected', 'but', 'has', 'not', 'stopped', 'altogether', 'they', 'said', 'they', 'said', 'they', 'could', 'not', 'say', 'how', 'long', 'the', 'disruption', 'will', 'go', 'on', 'and', 'what', 'effect', 'it', 'will', 'have', 'on', 'shipping', 'movements', 'indonesian', 'commodity', 'exchange', 'may', 'expand', 'the', 'indonesian', 'commodity', 'exchange', 'is', 'likely', 'to', 'start', 'trading', 'in', 'at', 'least', 'one', 'new', 'commodity', 'and', 'possibly', 'two', 'during', 'calendar', '1987', 'exchange', 'chairman', 'paian', 'nainggolan', 'said', 'he', 'told', 'reuters', 'in', 'a', 'telephone', 'interview', 'that', 'trading', 'in', 'palm', 'oil', 'sawn', 'timber', 'pepper', 'or', 'tobacco', 'was', 'being', 'considered', 'trading', 'in', 'either', 'crude', 'palm', 'oil', 'cpo', 'or', 'refined', 'palm', 'oil', 'may', 'also', 'be', 'introduced', 'but', 'he', 'said', 'the', 'question', 'was', 'still', 'being', 'considered', 'by', 'trade', 'minister', 'rachmat', 'saleh', 'and', 'no', 'decision', 'on', 'when', 'to', 'go', 'ahead', 'had', 'been', 'made', 'the', 'fledgling', 'exchange', 'currently', 'trades', 'coffee', 'and', 'rubber', 'physicals', 'on', 'an', 'open', 'outcry', 'system', 'four', 'days', 'a', 'week', 'several', 'factors', 'make', 'us', 'move', 'cautiously', 'nainggolan', 'said', 'we', 'want', 'to', 'move', 'slowly', 'and', 'safely', 'so', 'that', 'we', 'do', 'not', 'make', 'a', 'mistake', 'and', 'undermine', 'confidence', 'in', 'the', 'exchange', 'physical', 'rubber', 'trading', 'was', 'launched', 'in', '1985', 'with', 'coffee', 'added', 'in', 'january', '1986', 'rubber', 'contracts', 'are', 'traded', 'fob', 'up', 'to', 'five', 'months', 'forward', 'robusta', 'coffee', 'grades', 'four', 'and', 'five', 'are', 'traded', 'for', 'prompt', 'delivery', 'and', 'up', 'to', 'five', 'months', 'forward', 'exchange', 'officials', 'said', 'the', 'trade', 'ministry', 'and', 'exchange', 'board', 'are', 'considering', 'the', 'introduction', 'of', 'futures', 'trading', 'later', 'for', 'rubber', 'but', 'one', 'official', 'said', 'a', 'feasibility', 'study', 'was', 'needed', 'first', 'no', 'decisions', 'are', 'likely', 'until', 'after', 'indonesia', 's', 'elections', 'on', 'april', '23', 'traders', 'said', 'trade', 'minister', 'saleh', 'said', 'on', 'monday', 'that', 'indonesia', 'as', 'the', 'world', 's', 'second', 'largest', 'producer', 'of', 'natural', 'rubber', 'should', 'expand', 'its', 'rubber', 'marketing', 'effort', 'and', 'he', 'hoped', 'development', 'of', 'the', 'exchange', 'would', 'help', 'this', 'nainggolan', 'said', 'that', 'the', 'exchange', 'was', 'trying', 'to', 'boost', 'overseas', 'interest', 'by', 'building', 'up', 'contacts', 'with', 'end', 'users', 'he', 'said', 'teams', 'had', 'already', 'been', 'to', 'south', 'korea', 'and', 'taiwan', 'to', 'encourage', 'direct', 'use', 'of', 'the', 'exchange', 'while', 'a', 'delegation', 'would', 'also', 'visit', 'europe', 'mexico', 'and', 'some', 'latin', 'american', 'states', 'to', 'encourage', 'participation', 'officials', 'say', 'the', 'infant', 'exchange', 'has', 'made', 'a', 'good', 'start', 'although', 'trading', 'in', 'coffee', 'has', 'been', 'disappointing', 'transactions', 'in', 'rubber', 'between', 'the', 'start', 'of', 'trading', 'in', 'april', '1985', 'and', 'december', '1986', 'totalled', '9', '595', 'tonnes', 'worth', '6', '9', 'mln', 'dlrs', 'fob', 'plus', '184', '3', 'mln', 'rupiah', 'for', 'rubber', 'delivered', 'locally', 'the', 'latest', 'exchange', 'report', 'said', 'trading', 'in', 'coffee', 'in', 'calendar', '1986', 'amounted', 'to', 'only', '1', '905', 'tonnes', 'in', '381', 'lots', 'valued', 'at', '6', '87', 'billion', 'rupiah', 'total', 'membership', 'of', 'the', 'exchange', 'is', 'now', 'nine', 'brokers', 'and', '44', 'traders', 'corrected', 'goodyear', 'lt', 'gt', 'to', 'sell', 'celeron', 'goodyear', 'tire', 'and', 'rubber', 'co', 'said', 'it', 'expects', 'to', 'sell', 'its', 'celeron', 'corp', 'oil', 'and', 'gas', 'subsidiary', 'for', 'about', 'two', 'billion', 'dlrs', 'in', 'about', 'two', 'months', 'after', 'the', 'company', 's', 'annual', 'meeting', 'rober', 'mercer', 'goodyear', 's', 'chairman', 'and', 'chief', 'executive', 'officer', 'also', 'said', 'goodyear', 'expects', 'to', 'report', 'a', 'profit', 'of', 'more', 'than', 'one', 'dlr', 'a', 'share', 'from', 'continuing', 'operations', 'in', 'the', 'first', 'quarter', 'in', 'the', 'same', 'year', 'ago', 'period', 'goodyear', 'reported', 'a', 'loss', 'of', '59', 'cents', 'a', 'share', 'from', 'continuing', 'operations', 'mercer', 'said', 'about', 'seven', 'companies', 'are', 'interested', 'in', 'buying', 'celeron', 'and', 'they', 'may', 'form', 'a', 'consortium', 'to', 'buy', 'the', 'unit', 'saudi', 'arabia', 'wants', 'to', 'increase', 'oil', 'sales', 'to', 'japan', 'saudi', 'arabia', 'hopes', 'to', 'increase', 'the', 'volume', 'of', 'its', 'oil', 'exports', 'to', 'japan', 'through', 'expanding', 'bilateral', 'trade', 'saudi', 'arabian', 'interior', 'minister', 'naif', 'bin', 'abdul', 'aziz', 'said', 'he', 'told', 'a', 'tokyo', 'reception', 'his', 'country', 'hopes', 'to', 'raise', 'crude', 'and', 'products', 'exports', 'to', 'japan', 'to', 'earlier', 'levels', 'but', 'did', 'not', 'elaborate', 'to', 'promote', 'trade', 'saudi', 'arabia', 'is', 'inviting', 'japanese', 'industries', 'to', 'do', 'business', 'there', 'he', 'said', 'japanese', 'firms', 'now', 'have', 'long', 'term', 'contracts', 'to', 'import', 'a', 'total', 'of', '150', '000', 'barrels', 'per', 'day', 'of', 'saudi', 'crude', 'u', 's', 'urges', 'japan', 'to', 'open', 'farm', 'market', 'further', 'u', 's', 'agriculture', 'secretary', 'richard', 'lyng', 'has', 'asked', 'japan', 'to', 'open', 'its', 'farm', 'market', 'further', 'to', 'help', 'washington', 'cut', 'its', 'trade', 'deficit', 'and', 'ease', 'protectionist', 'pressures', 'an', 'agriculture', 'ministry', 'official', 'told', 'reporters', 'hideo', 'maki', 'director', 'general', 'of', 'the', 'ministry', 's', 'economic', 'affairs', 'bureau', 'quoted', 'lyng', 'as', 'telling', 'agriculture', 'minister', 'mutsuki', 'kato', 'that', 'the', 'removal', 'of', 'import', 'restrictions', 'would', 'help', 'japan', 'as', 'well', 'as', 'the', 'united', 'states', 'the', 'meeting', 'with', 'kato', 'opened', 'a', '12', 'day', 'visit', 'to', 'japan', 'by', 'lyng', 'who', 'is', 'here', 'to', 'dicuss', 'farm', 'trade', 'however', 'maki', 'quoted', 'kato', 'as', 'replying', 'that', 'japan', 'was', 'already', 'the', 'world', 's', 'largest', 'grain', 'importer', 'kato', 'added', 'japan', 'is', 'the', 'largest', 'customer', 'for', 'u', 's', 'grain', 'and', 'depended', 'on', 'domestic', 'output', 'for', 'only', '53', 'pct', 'of', 'its', 'food', 'requirements', 'in', '1985', 'lyng', 'said', 'the', 'u', 's', 'put', 'high', 'priority', 'on', 'talks', 'on', '12', 'farm', 'products', 'named', 'in', 'u', 's', 'complaints', 'against', 'japan', 'to', 'the', 'general', 'agreement', 'on', 'tariffs', 'and', 'trade', 'gatt', 'last', 'year', 'as', 'well', 'as', 'on', 'beef', 'citrus', 'products', 'and', 'rice', 'kato', 'said', 'japan', 'will', 'maintain', 'its', 'current', 'level', 'of', 'self', 'sufficiency', 'and', 'will', 'try', 'not', 'to', 'produce', 'surplus', 'rice', 'because', 'potential', 'production', 'is', 'higher', 'than', 'domestic', 'demand', 'the', 'world', 'farm', 'market', 'suffers', 'from', 'surpluses', 'because', 'of', 'rising', 'production', 'by', 'exporting', 'countries', 'he', 'added', 'lyng', 'said', 'the', 'u', 's', 'has', 'been', 'trying', 'to', 'reduce', 'farm', 'product', 'output', 'with', 'expensive', 'programs', 'maki', 'said', 'maki', 'said', 'the', 'u', 's', 'and', 'japan', 'will', 'hold', 'detailed', 'discussions', 'on', 'each', 'trade', 'item', 'as', 'well', 'as', 'a', 'new', 'round', 'of', 'gatt', 'trade', 'talks', 'at', 'a', 'meeting', 'on', 'april', '20', 'in', 'which', 'u', 's', 'trade', 'representative', 'clayton', 'yeutter', 'will', 'join', 'bank', 'of', 'japan', 'intervenes', 'in', 'tokyo', 'market', 'the', 'bank', 'of', 'japan', 'intervened', 'just', 'after', 'the', 'tokyo', 'market', 'opened', 'to', 'support', 'the', 'dollar', 'from', 'falling', 'below', '140', '00', 'yen', 'dealers', 'said', 'the', 'central', 'bank', 'bought', 'a', 'moderate', 'amount', 'of', 'dollars', 'to', 'prevent', 'its', 'decline', 'amid', 'bearish', 'sentiment', 'for', 'the', 'u', 's', 'currency', 'they', 'said', 'the', 'dollar', 'opened', 'at', 'a', 'record', 'tokyo', 'low', 'of', '140', '00', 'yen', 'against', '140', '70', '80', 'in', 'new', 'york', 'and', '141', '15', 'at', 'the', 'close', 'here', 'yesterday', 'the', 'previous', 'tokyo', 'low', 'was', '140', '55', 'yen', 'set', 'on', 'april', '15', 'ecuador', 'to', 'use', 'colombia', 'oil', 'link', 'for', 'five', 'years', 'ecuador', 'will', 'use', 'a', 'new', 'pipeline', 'link', 'with', 'colombia', 'to', 'export', 'crude', 'oil', 'for', 'the', 'next', 'five', 'years', 'colombian', 'mines', 'and', 'energy', 'minister', 'guillermo', 'perry', 'said', 'the', 'link', 'will', 'be', 'inaugurated', 'on', 'may', '8', 'it', 'was', 'built', 'to', 'allow', 'ecuador', 'to', 'resume', 'exports', 'of', 'crude', 'oil', 'halted', 'on', 'march', '5', 'by', 'earthquake', 'damage', 'to', 'its', 'lago', 'agrio', 'to', 'balao', 'pipeline', 'once', 'that', 'pipeline', 'is', 'repaired', 'ecuador', 'will', 'exceed', 'its', 'opec', 'quota', 'in', 'order', 'to', 'offset', 'lost', 'income', 'and', 'pay', 'debts', 'contracted', 'with', 'venezuela', 'and', 'nigeria', 'since', 'the', 'quake', 'ecuador', 'mines', 'and', 'energy', 'minister', 'javier', 'espinosa', 'said', 'the', 'two', 'ministers', 'were', 'speaking', 'at', 'a', 'news', 'conference', 'after', 'signing', 'an', 'agreement', 'for', 'joint', 'oil', 'exploration', 'and', 'exploitation', 'of', 'the', 'jungle', 'border', 'zone', 'between', 'the', 'two', 'nations', 'drilling', 'will', 'begin', 'in', 'september', 'the', 'agreement', 'to', 'transport', 'ecuadorean', 'crude', 'oil', 'is', 'not', 'only', 'for', 'this', 'emergency', 'period', 'but', 'for', 'the', 'next', 'five', 'years', 'with', 'possibility', 'of', 'an', 'extension', 'between', '20', '000', 'and', '50', '000', 'barrels', 'per', 'day', 'bpd', 'will', 'be', 'pumped', 'along', 'it', 'perry', 'said', 'espinosa', 'said', 'ecuador', 'planned', 'to', 'pump', '35', 'mln', 'barrels', 'through', 'the', 'link', 'in', 'the', 'next', 'five', 'years', 'at', 'a', 'cost', 'of', '75', 'cents', 'per', 'barrel', 'during', 'the', 'first', 'year', 'the', '43', 'km', 'link', 'with', 'a', 'maximum', 'capacity', 'of', '50', '000', 'bpd', 'will', 'run', 'from', 'lago', 'agrio', 'the', 'centre', 'of', 'of', 'ecuador', 's', 'jungle', 'oilfields', 'to', 'an', 'existing', 'colombian', 'pipeline', 'that', 'runs', 'to', 'the', 'pacific', 'port', 'of', 'tumaco', 'espinosa', 'said', 'the', '32', 'km', 'stretch', 'of', 'the', 'link', 'built', 'on', 'the', 'ecuadorean', 'side', 'cost', '10', '5', 'mln', 'dlrs', 'perry', 'gave', 'no', 'figures', 'for', 'colombia', 's', '11', 'km', 'segment', 'but', 'said', 'it', 'was', 'insignificant', 'compared', 'with', 'what', 'we', 'are', 'going', 'to', 'earn', 'opec', 'member', 'ecuador', 'was', 'pumping', 'around', '250', '000', 'bpd', 'before', 'the', 'quake', 'lost', 'exports', 'of', '185', '000', 'bpd', 'are', 'costing', 'it', '90', 'mln', 'dlrs', 'per', 'month', 'espinosa', 'said', 'italy', 'deficit', 'not', 'due', 'to', 'liberalization', 'minister', 'italy', 's', 'foreign', 'trade', 'minister', 'mario', 'sarcinelli', 'commenting', 'on', 'speculation', 'in', 'the', 'italian', 'press', 'said', 'a', 'sharp', 'balance', 'of', 'payments', 'deficit', 'in', 'may', 'could', 'not', 'be', 'attributed', 'to', 'recent', 'moves', 'liberalizing', 'the', 'purchase', 'of', 'foreign', 'securities', 'sarcinelli', 'was', 'reacting', 'to', 'suggestions', 'that', 'last', 'month', 's', 'overall', '3', '211', 'billion', 'lire', 'deficit', 'which', 'compares', 'with', 'april', 's', '2', '040', 'billion', 'surplus', 'could', 'be', 'linked', 'to', 'a', 'may', '13', 'decree', 'abolishing', 'obligatory', 'non', 'interest', 'bearing', 'deposits', 'on', 'foreign', 'securities', 'purchases', 'the', 'deficit', 'can', 'be', 'better', 'attributed', 'to', 'premature', 'and', 'delayed', 'foreign', 'trade', 'payments', 'and', 'receipts', 'leads', 'and', 'lags', 'rather', 'than', 'capital', 'outflow', 'to', 'portfolio', 'investment', 'sarcinelli', 'said', 'in', 'a', 'statement', 'earlier', 'today', 'the', 'newspaper', 'la', 'repubblica', 'cited', 'remarks', 'by', 'the', 'bank', 'of', 'italy', 'which', 'announced', 'the', 'deficit', 'for', 'may', 'and', 'said', 'it', 'had', 'been', 'partly', 'caused', 'by', 'non', 'banking', 'capital', 'outflows', 'in', 'practice', 'it', 'seems', 'that', 'there', 'has', 'been', 'a', 'constant', 'flow', 'of', 'capital', 'to', 'foreign', 'securities', 'or', 'investments', 'outside', 'our', 'borders', 'said', 'the', 'newspaper', 'but', 'the', 'newspaper', 'added', 'that', 'it', 'was', 'still', 'not', 'possible', 'to', 'say', 'how', 'far', 'the', 'move', 'to', 'abolish', 'foreign', 'securities', 'purchase', 'deposits', 'had', 'affected', 'italy', 's', 'balance', 'of', 'payments', 'royal', 'bank', 'canada', 'sees', 'higher', '1987', 'loan', 'losses', 'lt', 'royal', 'bank', 'of', 'canada', 'said', 'it', 'estimates', '1987', 'loan', 'losses', 'at', 'one', 'billion', 'dlrs', 'a', '25', 'mln', 'dlr', 'increase', 'over', 'last', 'year', 'royal', 'bank', 'said', 'it', 'set', 'its', 'provisions', 'given', 'the', 'continued', 'debt', 'servicing', 'problems', 'in', 'the', 'north', 'american', 'energy', 'industry', 'and', 'the', 'uncertain', 'outlook', 'for', 'energy', 'prices', 'and', 'also', 'continued', 'to', 'add', 'to', 'its', 'general', 'provisions', 'for', 'loans', 'to', 'troubled', 'borrower', 'countries', 'the', 'bank', 's', 'loan', 'loss', 'provision', 'for', 'the', 'first', 'quarter', 'ended', 'january', '31', 'rose', 'to', '223', 'mln', 'dlrs', 'from', '187', 'mln', 'dlrs', 'in', 'the', 'year', 'ago', 'quarter', 'the', 'bank', 'said', 'non', 'accrual', 'loans', 'net', 'of', 'provisions', 'for', 'loan', 'losses', 'totalled', '2', '2', 'billion', 'dlrs', 'on', 'january', '31', 'up', 'from', '2', '0', 'billion', 'dlrs', 'a', 'year', 'ago', 'in', 'reporting', 'lower', 'first', 'quarter', 'earnings', 'chairman', 'allan', 'taylor', 'said', 'problems', 'with', 'credit', 'quality', 'particularly', 'in', 'loans', 'associated', 'with', 'the', 'energy', 'sector', 'continue', 'to', 'have', 'a', 'substantial', 'adverse', 'effect', 'on', 'the', 'bank', 's', 'earnings', 'taylor', 'said', 'profitability', 'of', 'the', 'bank', 's', 'international', 'operations', 'remains', 'weak', 'reflecting', 'resource', 'related', 'difficulties', 'of', 'private', 'and', 'public', 'sector', 'borrowers', 'and', 'unsatisfactory', 'results', 'from', 'capital', 'market', 'activities', 'taylor', 'said', 'it', 'would', 'be', 'premature', 'to', 'speculate', 'on', 'the', 'outcome', 'of', 'debt', 'resturcturing', 'negotiations', 'with', 'brazil', 'or', 'their', 'potential', 'impact', 'on', 'the', 'royal', 'bank', 'the', 'bank', 'earlier', 'reported', 'first', 'quarter', 'profit', 'fell', 'to', '114', '1', 'mln', 'dlrs', 'from', '140', '4', 'mln', 'dlrs', 'a', 'year', 'ago', 'leading', 'cocoa', 'producers', 'discuss', 'international', 'pact', 'leading', 'cocoa', 'producers', 'will', 'discuss', 'whether', 'newly', 'agreed', 'rules', 'on', 'an', 'international', 'cocoa', 'buffer', 'stock', 'will', 'succeed', 'in', 'reversing', 'a', 'sharp', 'fall', 'in', 'world', 'prices', 'when', 'they', 'start', 'four', 'day', 's', 'of', 'talks', 'here', 'later', 'today', 'conference', 'sources', 'said', 'another', 'topic', 'likely', 'to', 'be', 'discussed', 'at', 'the', 'twice', 'yearly', 'meeting', 'of', 'the', 'cocoa', 'producer', 'alliance', 'cpa', 'is', 'the', 'pact', 's', 'second', 'line', 'of', 'market', 'support', 'a', 'witholding', 'scheme', 'under', 'which', 'exporters', 'can', 'take', 'up', 'to', '120', '000', 'tonnes', 'of', 'cocoa', 'off', 'the', 'market', 'if', 'buffer', 'stock', 'purchases', 'fail', 'to', 'defend', 'prices', 'the', 'international', 'cocoa', 'organisation', 'is', 'due', 'to', 'discuss', 'the', 'scheme', 'at', 'a', 'meeting', 'in', 'june', 'and', 'exporters', 'could', 'use', 'the', 'yaounde', 'talks', 'to', 'work', 'out', 'a', 'common', 'position', 'on', 'the', 'issue', 'the', 'sources', 'said', 'delegates', 'will', 'also', 'be', 'briefed', 'on', 'arrangements', 'for', 'an', 'international', 'cocoa', 'research', 'conference', 'due', 'to', 'take', 'place', 'in', 'santo', 'domingo', 'in', 'the', 'dominican', 'republic', 'next', 'month', 'cpa', 'secretary', 'general', 'd', 's', 'kamga', 'said', 'the', '11', 'member', 'cpa', 'include', 'the', 'world', 's', 'top', 'three', 'producers', 'of', 'ivory', 'coast', 'brazil', 'and', 'ghana', 'and', 'accounts', 'for', 'around', '80', 'pct', 'of', 'world', 'output']\n",
            "charachter counts :  [('a', 224), ('b', 126), ('c', 123), ('d', 97), ('e', 99), ('f', 98), ('g', 28), ('h', 48), ('i', 150), ('j', 32), ('k', 15), ('l', 72), ('m', 98), ('n', 57), ('o', 164), ('p', 125), ('q', 16), ('r', 73), ('s', 200), ('t', 337), ('u', 30), ('v', 9), ('w', 93), ('x', 0), ('y', 25), ('z', 1)]\n"
          ]
        }
      ]
    },
    {
      "cell_type": "code",
      "source": [
        "ordered_chars_no_spec=char_counts.takeOrdered(5, key = lambda x: -x[1])\n",
        "for j,i in ordered_chars_no_spec :\n",
        "  print (j,\":\",i)"
      ],
      "metadata": {
        "colab": {
          "base_uri": "https://localhost:8080/"
        },
        "id": "ieL0LqixVtLj",
        "outputId": "fb7a73e9-5ad9-4088-c2f6-8c421845e2ca"
      },
      "execution_count": null,
      "outputs": [
        {
          "output_type": "stream",
          "name": "stdout",
          "text": [
            "t : 337\n",
            "a : 224\n",
            "s : 200\n",
            "o : 164\n",
            "i : 150\n"
          ]
        }
      ]
    },
    {
      "cell_type": "code",
      "source": [],
      "metadata": {
        "id": "Bdfz4Jm4XomL"
      },
      "execution_count": null,
      "outputs": []
    }
  ]
}